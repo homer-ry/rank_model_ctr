{
 "cells": [
  {
   "cell_type": "code",
   "execution_count": 1,
   "id": "67a43e4c",
   "metadata": {},
   "outputs": [
    {
     "name": "stderr",
     "output_type": "stream",
     "text": [
      "/Users/rongyu/opt/anaconda3/envs/tensorflow1.7/lib/python3.5/importlib/_bootstrap.py:222: RuntimeWarning: compiletime version 3.6 of module 'tensorflow.python.framework.fast_tensor_util' does not match runtime version 3.5\n",
      "  return f(*args, **kwds)\n"
     ]
    }
   ],
   "source": [
    "import os\n",
    "import time\n",
    "import pickle\n",
    "import random\n",
    "import numpy as np\n",
    "import tensorflow as tf\n",
    "import sys\n",
    "from input import DataInput, DataInputTest\n",
    "from model import Model\n"
   ]
  },
  {
   "cell_type": "code",
   "execution_count": 2,
   "id": "891f1d9e",
   "metadata": {},
   "outputs": [],
   "source": [
    "\n",
    "best_auc = 0.0\n",
    "def calc_auc(raw_arr):\n",
    "    \"\"\"Summary\n",
    "\n",
    "    Args:\n",
    "        raw_arr (TYPE): Description\n",
    "\n",
    "    Returns:\n",
    "        TYPE: Description\n",
    "    \"\"\"\n",
    "    # sort by pred value, from small to big\n",
    "    arr = sorted(raw_arr, key=lambda d:d[2])\n",
    "\n",
    "    auc = 0.0\n",
    "    fp1, tp1, fp2, tp2 = 0.0, 0.0, 0.0, 0.0\n",
    "    for record in arr:\n",
    "        fp2 += record[0] # noclick\n",
    "        tp2 += record[1] # click\n",
    "        auc += (fp2 - fp1) * (tp2 + tp1)\n",
    "        fp1, tp1 = fp2, tp2\n",
    "\n",
    "    # if all nonclick or click, disgard\n",
    "    threshold = len(arr) - 1e-3\n",
    "    if tp2 > threshold or fp2 > threshold:\n",
    "        return -0.5\n",
    "\n",
    "    if tp2 * fp2 > 0.0:  # normal auc\n",
    "        return (1.0 - auc / (2.0 * tp2 * fp2))\n",
    "    else:\n",
    "        return None\n",
    "\n",
    "    \n",
    "def _auc_arr(score):\n",
    "    score_p = score[:,0]\n",
    "    score_n = score[:,1]\n",
    "    #print \"============== p =============\"\n",
    "    #print score_p\n",
    "    #print \"============== n =============\"\n",
    "    #print score_n\n",
    "    score_arr = []\n",
    "    for s in score_p.tolist():\n",
    "        score_arr.append([0, 1, s])\n",
    "    for s in score_n.tolist():\n",
    "        score_arr.append([1, 0, s])\n",
    "    return score_arr\n",
    "\n",
    "\n",
    "def _eval(model):\n",
    "    auc_sum = 0.0\n",
    "    score_arr = []\n",
    "    for _, uij in DataInputTest(test_set, test_batch_size):\n",
    "        auc_, score_ = model.eval(uij)\n",
    "        score_arr += _auc_arr(score_)\n",
    "        auc_sum += auc_ * len(uij[0])\n",
    "    test_gauc = auc_sum / len(test_set)\n",
    "    Auc = calc_auc(score_arr)\n",
    "    global best_auc\n",
    "    if best_auc < test_gauc:\n",
    "        best_auc = test_gauc\n",
    "        model.save('save_path/ckpt')\n",
    "    return test_gauc, Auc\n",
    "\n"
   ]
  },
  {
   "cell_type": "markdown",
   "id": "99e68934",
   "metadata": {},
   "source": [
    "# 1. 加载数据（list）"
   ]
  },
  {
   "cell_type": "code",
   "execution_count": 3,
   "id": "f08c2157",
   "metadata": {},
   "outputs": [],
   "source": [
    "with open('../raw_data/dataset.pkl', 'rb') as f:\n",
    "    train_set = pickle.load(f)\n",
    "    test_set = pickle.load(f)\n",
    "    cate_list = pickle.load(f)\n",
    "    user_count, item_count, cate_count = pickle.load(f)"
   ]
  },
  {
   "cell_type": "code",
   "execution_count": 4,
   "id": "ce46cdd0",
   "metadata": {
    "scrolled": true
   },
   "outputs": [
    {
     "data": {
      "text/plain": [
       "[(103944, [17704, 37473], 53346, 0), (126219, [15082, 19768, 30450], 48620, 0)]"
      ]
     },
     "execution_count": 4,
     "metadata": {},
     "output_type": "execute_result"
    }
   ],
   "source": [
    "train_set[:2]"
   ]
  },
  {
   "cell_type": "markdown",
   "id": "b2fdade3",
   "metadata": {},
   "source": [
    "# 2.模型构建和训练"
   ]
  },
  {
   "cell_type": "code",
   "execution_count": 5,
   "id": "fe091a5f",
   "metadata": {},
   "outputs": [
    {
     "name": "stdout",
     "output_type": "stream",
     "text": [
      "u_emb shape= [None, 128]\n",
      "i_emb shape= [None, 128]\n",
      "j_emb shape= [None, 128]\n",
      "cate_list= Tensor(\"Const:0\", shape=(63001,), dtype=int64)\n",
      "hc shape= [None, None]\n",
      "h_emb shape= [None, None, 128]\n",
      "mask shape= [None, None, None]\n",
      "h_emb shape: [None, None, 128]\n",
      "[None, 2]\n"
     ]
    }
   ],
   "source": [
    "os.environ['CUDA_VISIBLE_DEVICES'] = '1'\n",
    "random.seed(1234)\n",
    "np.random.seed(1234)\n",
    "tf.set_random_seed(1234)\n",
    "\n",
    "train_batch_size = 32\n",
    "test_batch_size = 512\n",
    "epoch_size = round(len(train_set) / train_batch_size)\n",
    "\n",
    "model = Model(user_count, item_count, cate_count, cate_list)"
   ]
  },
  {
   "cell_type": "code",
   "execution_count": null,
   "id": "c443255d",
   "metadata": {},
   "outputs": [
    {
     "name": "stdout",
     "output_type": "stream",
     "text": [
      "global_step: 1 ; loss= 0.7543435 ; loss_sum= 0.7543435096740723\n",
      "global_step: 2 ; loss= 1.185446 ; loss_sum= 1.9397895336151123\n",
      "global_step: 3 ; loss= 1.470923 ; loss_sum= 3.410712480545044\n",
      "global_step: 4 ; loss= 0.7682227 ; loss_sum= 4.178935170173645\n",
      "global_step: 5 ; loss= 0.7275197 ; loss_sum= 4.906454861164093\n",
      "global_step: 6 ; loss= 0.8029238 ; loss_sum= 5.709378659725189\n",
      "global_step: 7 ; loss= 0.7567352 ; loss_sum= 6.466113865375519\n",
      "global_step: 8 ; loss= 0.6850488 ; loss_sum= 7.151162683963776\n",
      "Epoch 0 Global_step 8\tTrain_loss: 0.0072\tEval_GAUC: 0.5178\tEval_AUC: 0.5181\n",
      "global_step: 9 ; loss= 0.6518771 ; loss_sum= 0.6518771052360535\n",
      "global_step: 10 ; loss= 0.9719677 ; loss_sum= 1.6238448023796082\n",
      "Epoch 0 DONE\tCost time: 42.99\n",
      "global_step: 11 ; loss= 0.94354844 ; loss_sum= 0.9435484409332275\n",
      "global_step: 12 ; loss= 0.7655294 ; loss_sum= 1.7090778350830078\n",
      "global_step: 13 ; loss= 0.7184435 ; loss_sum= 2.4275213479995728\n",
      "global_step: 14 ; loss= 0.71985954 ; loss_sum= 3.1473808884620667\n",
      "global_step: 15 ; loss= 0.7897202 ; loss_sum= 3.9371010661125183\n",
      "global_step: 16 ; loss= 0.7282237 ; loss_sum= 4.6653247475624084\n"
     ]
    }
   ],
   "source": [
    "# print('test_gauc: %.4f\\t test_auc: %.4f' % _eval(sess, model))\n",
    "sys.stdout.flush()\n",
    "lr = 1.0\n",
    "start_time = time.time()\n",
    "for _ in range(50):\n",
    "    random.shuffle(train_set)\n",
    "    loss_sum = 0.0\n",
    "    i=0\n",
    "    for _, uij in DataInput(train_set, train_batch_size):\n",
    "#         i = i+1\n",
    "#         if i>10:\n",
    "#             break\n",
    "            \n",
    "        loss = model.train(uij, lr)\n",
    "        loss_sum += loss\n",
    "        print('global_step:', model.global_step.eval(), '; loss=', loss, \"; loss_sum=\", loss_sum)\n",
    "\n",
    "        if model.global_step.eval() % 1000 == 0:\n",
    "            test_gauc, Auc = _eval(model)\n",
    "            print('Epoch %d Global_step %d\\tTrain_loss: %.4f\\tEval_GAUC: %.4f\\tEval_AUC: %.4f' %\n",
    "              (model.global_epoch_step.eval(), model.global_step.eval(),\n",
    "               loss_sum / 1000, test_gauc, Auc))\n",
    "            sys.stdout.flush()\n",
    "            loss_sum = 0.0\n",
    "\n",
    "        if model.global_step.eval() % 336000 == 0:\n",
    "            lr = 0.1\n",
    "\n",
    "    print('Epoch %d DONE\\tCost time: %.2f' %\n",
    "          (model.global_epoch_step.eval(), time.time()-start_time))\n",
    "    sys.stdout.flush()\n",
    "    model.global_epoch_step_op.eval()\n",
    "\n",
    "print('best test_gauc:', best_auc)\n",
    "sys.stdout.flush()"
   ]
  },
  {
   "cell_type": "code",
   "execution_count": null,
   "id": "3ad2c118",
   "metadata": {},
   "outputs": [],
   "source": []
  },
  {
   "cell_type": "markdown",
   "id": "0780db87",
   "metadata": {},
   "source": [
    "# 评估"
   ]
  },
  {
   "cell_type": "code",
   "execution_count": null,
   "id": "6a7c2401",
   "metadata": {},
   "outputs": [],
   "source": []
  },
  {
   "cell_type": "code",
   "execution_count": null,
   "id": "7fdb1944",
   "metadata": {},
   "outputs": [],
   "source": []
  },
  {
   "cell_type": "code",
   "execution_count": null,
   "id": "614fc25d",
   "metadata": {},
   "outputs": [],
   "source": []
  },
  {
   "cell_type": "code",
   "execution_count": null,
   "id": "1322e17c",
   "metadata": {},
   "outputs": [],
   "source": []
  },
  {
   "cell_type": "code",
   "execution_count": null,
   "id": "e507cb2b",
   "metadata": {},
   "outputs": [],
   "source": []
  },
  {
   "cell_type": "code",
   "execution_count": null,
   "id": "51cae4c1",
   "metadata": {},
   "outputs": [],
   "source": []
  },
  {
   "cell_type": "code",
   "execution_count": null,
   "id": "355c01ae",
   "metadata": {},
   "outputs": [],
   "source": []
  },
  {
   "cell_type": "code",
   "execution_count": null,
   "id": "f320e9ee",
   "metadata": {},
   "outputs": [],
   "source": []
  },
  {
   "cell_type": "code",
   "execution_count": null,
   "id": "0411dda7",
   "metadata": {},
   "outputs": [],
   "source": []
  }
 ],
 "metadata": {
  "kernelspec": {
   "display_name": "Python 3",
   "language": "python",
   "name": "python3"
  },
  "language_info": {
   "codemirror_mode": {
    "name": "ipython",
    "version": 3
   },
   "file_extension": ".py",
   "mimetype": "text/x-python",
   "name": "python",
   "nbconvert_exporter": "python",
   "pygments_lexer": "ipython3",
   "version": "3.5.6"
  }
 },
 "nbformat": 4,
 "nbformat_minor": 5
}
