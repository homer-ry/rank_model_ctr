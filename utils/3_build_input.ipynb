{
 "cells": [
  {
   "cell_type": "code",
   "execution_count": 27,
   "id": "647553e3",
   "metadata": {},
   "outputs": [],
   "source": [
    "import random\n",
    "import pickle\n",
    "\n",
    "random.seed(1234)\n"
   ]
  },
  {
   "cell_type": "markdown",
   "id": "3a9983b6",
   "metadata": {},
   "source": [
    "# 1.加载mapping的df数据"
   ]
  },
  {
   "cell_type": "code",
   "execution_count": 28,
   "id": "e1b0765b",
   "metadata": {},
   "outputs": [],
   "source": [
    "with open('../raw_data/remap.pkl', 'rb') as f:\n",
    "    reviews_df = pickle.load(f)\n",
    "    cate_list = pickle.load(f)\n",
    "    user_count, item_count, cate_count, example_count = pickle.load(f)\n"
   ]
  },
  {
   "cell_type": "code",
   "execution_count": 29,
   "id": "8d22df31",
   "metadata": {},
   "outputs": [
    {
     "name": "stdout",
     "output_type": "stream",
     "text": [
      "user_count: 192403\titem_count: 63001\tcate_count: 801\texample_count: 1689188\n"
     ]
    }
   ],
   "source": [
    "print('user_count: %d\\titem_count: %d\\tcate_count: %d\\texample_count: %d' %\n",
    "      (user_count, item_count, cate_count, example_count))"
   ]
  },
  {
   "cell_type": "markdown",
   "id": "b82a9b43",
   "metadata": {},
   "source": [
    "# 2.构建序列\n",
    "* 根据用户id聚合行为item，分别构建点击序列和未点击序列（随机负采样）\n",
    "* 构建训练和测试样本，点击序列label=1，未点击序列label=0，序列的前[0，N-1]做训练样本，第N个做测试样本"
   ]
  },
  {
   "cell_type": "code",
   "execution_count": 30,
   "id": "23d7b84b",
   "metadata": {},
   "outputs": [],
   "source": [
    "train_set = []\n",
    "test_set = []\n",
    "for reviewerID, hist in reviews_df.groupby('reviewerID'):\n",
    "    pos_list = hist['asin'].tolist()\n",
    "    def gen_neg():\n",
    "        neg = pos_list[0]\n",
    "        while neg in pos_list:\n",
    "            neg = random.randint(0, item_count-1)\n",
    "        return neg\n",
    "    neg_list = [gen_neg() for i in range(len(pos_list))]\n",
    "\n",
    "    for i in range(1, len(pos_list)):\n",
    "        hist = pos_list[:i]\n",
    "        if i != len(pos_list) - 1:\n",
    "            train_set.append((reviewerID, hist, pos_list[i], 1))\n",
    "            train_set.append((reviewerID, hist, neg_list[i], 0))\n",
    "        else:\n",
    "            label = (pos_list[i], neg_list[i])\n",
    "            test_set.append((reviewerID, hist, label))\n"
   ]
  },
  {
   "cell_type": "markdown",
   "id": "acf3c0f4",
   "metadata": {},
   "source": [
    "# 3.输出dataset的PB文件\n",
    "* train_set\n",
    "* test_set\n",
    "* cate_list\n",
    "* user_count, item_count, cate_count"
   ]
  },
  {
   "cell_type": "code",
   "execution_count": 31,
   "id": "89aa41c0",
   "metadata": {},
   "outputs": [],
   "source": [
    "random.shuffle(train_set)\n",
    "random.shuffle(test_set)\n",
    "\n",
    "assert len(test_set) == user_count\n",
    "# assert(len(test_set) + len(train_set) // 2 == reviews_df.shape[0])\n",
    "\n",
    "with open('../raw_data/dataset.pkl', 'wb') as f:\n",
    "    pickle.dump(train_set, f, pickle.HIGHEST_PROTOCOL)\n",
    "    pickle.dump(test_set, f, pickle.HIGHEST_PROTOCOL)\n",
    "    pickle.dump(cate_list, f, pickle.HIGHEST_PROTOCOL)\n",
    "    pickle.dump((user_count, item_count, cate_count), f, pickle.HIGHEST_PROTOCOL)\n"
   ]
  },
  {
   "cell_type": "code",
   "execution_count": null,
   "id": "cd789483",
   "metadata": {},
   "outputs": [],
   "source": []
  },
  {
   "cell_type": "code",
   "execution_count": null,
   "id": "83385f36",
   "metadata": {},
   "outputs": [],
   "source": []
  },
  {
   "cell_type": "code",
   "execution_count": null,
   "id": "e89c501d",
   "metadata": {},
   "outputs": [],
   "source": []
  }
 ],
 "metadata": {
  "kernelspec": {
   "display_name": "Python 3",
   "language": "python",
   "name": "python3"
  },
  "language_info": {
   "codemirror_mode": {
    "name": "ipython",
    "version": 3
   },
   "file_extension": ".py",
   "mimetype": "text/x-python",
   "name": "python",
   "nbconvert_exporter": "python",
   "pygments_lexer": "ipython3",
   "version": "3.5.6"
  }
 },
 "nbformat": 4,
 "nbformat_minor": 5
}
