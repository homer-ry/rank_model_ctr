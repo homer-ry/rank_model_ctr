{
 "cells": [
  {
   "cell_type": "code",
   "execution_count": 1,
   "id": "b241afdd",
   "metadata": {},
   "outputs": [],
   "source": [
    "import random\n",
    "import pickle\n",
    "import numpy as np\n",
    "\n",
    "random.seed(1234)\n"
   ]
  },
  {
   "cell_type": "markdown",
   "id": "cdec9fe0",
   "metadata": {},
   "source": [
    "# 1.加载用户和商品DF表"
   ]
  },
  {
   "cell_type": "code",
   "execution_count": 2,
   "id": "36b23225",
   "metadata": {},
   "outputs": [],
   "source": [
    "with open('../raw_data/reviews.pkl', 'rb') as f:\n",
    "    reviews_df = pickle.load(f)\n",
    "    reviews_df = reviews_df[['reviewerID', 'asin', 'unixReviewTime']]\n",
    "    \n",
    "with open('../raw_data/meta.pkl', 'rb') as f:\n",
    "    meta_df = pickle.load(f)\n",
    "    meta_df = meta_df[['asin', 'categories']]\n",
    "    meta_df['categories'] = meta_df['categories'].map(lambda x: x[-1][-1])\n"
   ]
  },
  {
   "cell_type": "markdown",
   "id": "a2895f2b",
   "metadata": {},
   "source": [
    "# 2.加载用户和商品DF表\n",
    "* 构建商品id、类目、用户id进行0-N编码map\n",
    "    * user_count: 192403\t\n",
    "    * item_count: 63001\t\n",
    "    * cate_count: 801\t\n",
    "    * example_count: 1689188\n",
    "* 样本DF进行编码\n",
    "    * reviews_df：'reviewerID', 'asin', 'unixReviewTime'\n",
    "    * catelist\n",
    "    * user_count, item_count, cate_count, example_count\n",
    "    * asin_key, cate_key, revi_key"
   ]
  },
  {
   "cell_type": "code",
   "execution_count": 3,
   "id": "d92906f3",
   "metadata": {},
   "outputs": [],
   "source": [
    "def build_map(df, col_name):\n",
    "    key = sorted(df[col_name].unique().tolist())\n",
    "    m = dict(zip(key, range(len(key))))\n",
    "    df[col_name] = df[col_name].map(lambda x: m[x])\n",
    "    return m, key"
   ]
  },
  {
   "cell_type": "code",
   "execution_count": 4,
   "id": "c55e3af0",
   "metadata": {},
   "outputs": [],
   "source": [
    "asin_map, asin_key = build_map(meta_df, 'asin')\n",
    "cate_map, cate_key = build_map(meta_df, 'categories')\n",
    "revi_map, revi_key = build_map(reviews_df, 'reviewerID')\n"
   ]
  },
  {
   "cell_type": "code",
   "execution_count": 5,
   "id": "06472179",
   "metadata": {},
   "outputs": [
    {
     "name": "stdout",
     "output_type": "stream",
     "text": [
      "user_count: 192403\titem_count: 63001\tcate_count: 801\texample_count: 1689188\n"
     ]
    }
   ],
   "source": [
    "user_count, item_count, cate_count, example_count =\\\n",
    "    len(revi_map), len(asin_map), len(cate_map), reviews_df.shape[0]\n",
    "print('user_count: %d\\titem_count: %d\\tcate_count: %d\\texample_count: %d' %\n",
    "      (user_count, item_count, cate_count, example_count))\n"
   ]
  },
  {
   "cell_type": "code",
   "execution_count": 6,
   "id": "acc88a63",
   "metadata": {
    "scrolled": false
   },
   "outputs": [],
   "source": [
    "meta_df = meta_df.sort_values('asin')\n",
    "# meta_df"
   ]
  },
  {
   "cell_type": "code",
   "execution_count": 7,
   "id": "233102bc",
   "metadata": {},
   "outputs": [],
   "source": [
    "meta_df = meta_df.reset_index(drop=True)\n",
    "reviews_df['asin'] = reviews_df['asin'].map(lambda x: asin_map[x])\n",
    "reviews_df = reviews_df.sort_values(['reviewerID', 'unixReviewTime'])\n",
    "reviews_df = reviews_df.reset_index(drop=True)\n",
    "reviews_df = reviews_df[['reviewerID', 'asin', 'unixReviewTime']]\n",
    "# reviews_df"
   ]
  },
  {
   "cell_type": "code",
   "execution_count": 8,
   "id": "1d8d9033",
   "metadata": {},
   "outputs": [],
   "source": [
    "cate_list = [meta_df['categories'][i] for i in range(len(asin_map))]\n",
    "cate_list = np.array(cate_list, dtype=np.int32)\n"
   ]
  },
  {
   "cell_type": "markdown",
   "id": "59d72a12",
   "metadata": {},
   "source": [
    "# 3.输出到PB存储"
   ]
  },
  {
   "cell_type": "code",
   "execution_count": 9,
   "id": "5ffe9b2e",
   "metadata": {},
   "outputs": [],
   "source": [
    "with open('../raw_data/remap.pkl', 'wb') as f:\n",
    "    pickle.dump(reviews_df, f, pickle.HIGHEST_PROTOCOL) # uid, iid\n",
    "    pickle.dump(cate_list, f, pickle.HIGHEST_PROTOCOL) # cid of iid line\n",
    "    pickle.dump((user_count, item_count, cate_count, example_count),\n",
    "              f, pickle.HIGHEST_PROTOCOL)\n",
    "    pickle.dump((asin_key, cate_key, revi_key), f, pickle.HIGHEST_PROTOCOL)\n"
   ]
  },
  {
   "cell_type": "code",
   "execution_count": null,
   "id": "baa5ad4b",
   "metadata": {},
   "outputs": [],
   "source": []
  },
  {
   "cell_type": "code",
   "execution_count": null,
   "id": "a8f90c1d",
   "metadata": {},
   "outputs": [],
   "source": []
  },
  {
   "cell_type": "code",
   "execution_count": null,
   "id": "cd266af2",
   "metadata": {},
   "outputs": [],
   "source": []
  }
 ],
 "metadata": {
  "kernelspec": {
   "display_name": "Python 3",
   "language": "python",
   "name": "python3"
  },
  "language_info": {
   "codemirror_mode": {
    "name": "ipython",
    "version": 3
   },
   "file_extension": ".py",
   "mimetype": "text/x-python",
   "name": "python",
   "nbconvert_exporter": "python",
   "pygments_lexer": "ipython3",
   "version": "3.5.6"
  }
 },
 "nbformat": 4,
 "nbformat_minor": 5
}
