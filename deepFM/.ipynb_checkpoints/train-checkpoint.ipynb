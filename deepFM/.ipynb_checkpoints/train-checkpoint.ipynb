{
 "cells": [
  {
   "cell_type": "code",
   "execution_count": 1,
   "id": "85abd62b",
   "metadata": {},
   "outputs": [
    {
     "name": "stderr",
     "output_type": "stream",
     "text": [
      "/Users/rongyu/opt/anaconda3/envs/tensorflow1.7/lib/python3.5/importlib/_bootstrap.py:222: RuntimeWarning: compiletime version 3.6 of module 'tensorflow.python.framework.fast_tensor_util' does not match runtime version 3.5\n",
      "  return f(*args, **kwds)\n"
     ]
    },
    {
     "ename": "SyntaxError",
     "evalue": "invalid syntax (model.py, line 63)",
     "output_type": "error",
     "traceback": [
      "\u001b[0;36m  File \u001b[0;32m\"/Users/rongyu/Downloads/develop/2_model/rank_model_ctr/deepFM/model.py\"\u001b[0;36m, line \u001b[0;32m63\u001b[0m\n\u001b[0;31m    print h_emb.get_shape().as_list()\u001b[0m\n\u001b[0m              ^\u001b[0m\n\u001b[0;31mSyntaxError\u001b[0m\u001b[0;31m:\u001b[0m invalid syntax\n"
     ]
    }
   ],
   "source": [
    "import os\n",
    "import time\n",
    "import pickle\n",
    "import random\n",
    "import numpy as np\n",
    "import tensorflow as tf\n",
    "import sys\n",
    "from input import DataInput, DataInputTest\n",
    "from model import Model\n"
   ]
  },
  {
   "cell_type": "code",
   "execution_count": null,
   "id": "8b030d8a",
   "metadata": {},
   "outputs": [],
   "source": [
    "\n",
    "best_auc = 0.0\n",
    "def calc_auc(raw_arr):\n",
    "    \"\"\"Summary\n",
    "\n",
    "    Args:\n",
    "        raw_arr (TYPE): Description\n",
    "\n",
    "    Returns:\n",
    "        TYPE: Description\n",
    "    \"\"\"\n",
    "    # sort by pred value, from small to big\n",
    "    arr = sorted(raw_arr, key=lambda d:d[2])\n",
    "\n",
    "    auc = 0.0\n",
    "    fp1, tp1, fp2, tp2 = 0.0, 0.0, 0.0, 0.0\n",
    "    for record in arr:\n",
    "        fp2 += record[0] # noclick\n",
    "        tp2 += record[1] # click\n",
    "        auc += (fp2 - fp1) * (tp2 + tp1)\n",
    "        fp1, tp1 = fp2, tp2\n",
    "\n",
    "    # if all nonclick or click, disgard\n",
    "    threshold = len(arr) - 1e-3\n",
    "    if tp2 > threshold or fp2 > threshold:\n",
    "        return -0.5\n",
    "\n",
    "    if tp2 * fp2 > 0.0:  # normal auc\n",
    "        return (1.0 - auc / (2.0 * tp2 * fp2))\n",
    "    else:\n",
    "        return None\n",
    "\n",
    "    \n",
    "def _auc_arr(score):\n",
    "    score_p = score[:,0]\n",
    "    score_n = score[:,1]\n",
    "    #print \"============== p =============\"\n",
    "    #print score_p\n",
    "    #print \"============== n =============\"\n",
    "    #print score_n\n",
    "    score_arr = []\n",
    "    for s in score_p.tolist():\n",
    "        score_arr.append([0, 1, s])\n",
    "    for s in score_n.tolist():\n",
    "        score_arr.append([1, 0, s])\n",
    "    return score_arr\n",
    "\n",
    "\n",
    "def _eval(model):\n",
    "    auc_sum = 0.0\n",
    "    score_arr = []\n",
    "    for _, uij in DataInputTest(test_set, test_batch_size):\n",
    "        auc_, score_ = model.eval(uij)\n",
    "        score_arr += _auc_arr(score_)\n",
    "        auc_sum += auc_ * len(uij[0])\n",
    "    test_gauc = auc_sum / len(test_set)\n",
    "    Auc = calc_auc(score_arr)\n",
    "    global best_auc\n",
    "    if best_auc < test_gauc:\n",
    "        best_auc = test_gauc\n",
    "        model.save('save_path/ckpt')\n",
    "    return test_gauc, Auc\n",
    "\n"
   ]
  },
  {
   "cell_type": "markdown",
   "id": "74c97576",
   "metadata": {},
   "source": [
    "# 1. 加载数据（list）"
   ]
  },
  {
   "cell_type": "code",
   "execution_count": 3,
   "id": "bad755eb",
   "metadata": {},
   "outputs": [],
   "source": [
    "with open('../raw_data/dataset.pkl', 'rb') as f:\n",
    "    train_set = pickle.load(f)\n",
    "    test_set = pickle.load(f)\n",
    "    cate_list = pickle.load(f)\n",
    "    user_count, item_count, cate_count = pickle.load(f)"
   ]
  },
  {
   "cell_type": "code",
   "execution_count": 4,
   "id": "5770b033",
   "metadata": {
    "scrolled": true
   },
   "outputs": [
    {
     "data": {
      "text/plain": [
       "[(103944, [17704, 37473], 53346, 0), (126219, [15082, 19768, 30450], 48620, 0)]"
      ]
     },
     "execution_count": 4,
     "metadata": {},
     "output_type": "execute_result"
    }
   ],
   "source": [
    "train_set[:2]"
   ]
  },
  {
   "cell_type": "markdown",
   "id": "4e0c309d",
   "metadata": {},
   "source": [
    "# 2.模型构建和训练"
   ]
  },
  {
   "cell_type": "code",
   "execution_count": 5,
   "id": "6f376f55",
   "metadata": {},
   "outputs": [
    {
     "name": "stdout",
     "output_type": "stream",
     "text": [
      "u_emb shape= [None, 128]\n",
      "i_emb shape= [None, 128]\n",
      "j_emb shape= [None, 128]\n",
      "cate_list= Tensor(\"Const:0\", shape=(63001,), dtype=int64)\n",
      "hc shape= [None, None]\n",
      "h_emb shape= [None, None, 128]\n",
      "mask shape= [None, None, None]\n",
      "h_emb shape: [None, None, 128]\n",
      "[None, 2]\n"
     ]
    }
   ],
   "source": [
    "os.environ['CUDA_VISIBLE_DEVICES'] = '1'\n",
    "random.seed(1234)\n",
    "np.random.seed(1234)\n",
    "tf.set_random_seed(1234)\n",
    "\n",
    "train_batch_size = 32\n",
    "test_batch_size = 512\n",
    "epoch_size = round(len(train_set) / train_batch_size)\n",
    "\n",
    "model = Model(user_count, item_count, cate_count, cate_list)"
   ]
  },
  {
   "cell_type": "code",
   "execution_count": 6,
   "id": "6c7eb4e8",
   "metadata": {},
   "outputs": [
    {
     "name": "stdout",
     "output_type": "stream",
     "text": [
      "global_step: 1 ; loss= 0.7543435 ; loss_sum= 0.7543435096740723\n",
      "global_step: 2 ; loss= 1.185446 ; loss_sum= 1.9397895336151123\n",
      "global_step: 3 ; loss= 1.470923 ; loss_sum= 3.410712480545044\n",
      "global_step: 4 ; loss= 0.7682227 ; loss_sum= 4.178935170173645\n",
      "global_step: 5 ; loss= 0.7275197 ; loss_sum= 4.906454861164093\n",
      "global_step: 6 ; loss= 0.8029238 ; loss_sum= 5.709378659725189\n",
      "global_step: 7 ; loss= 0.7567352 ; loss_sum= 6.466113865375519\n",
      "global_step: 8 ; loss= 0.6850488 ; loss_sum= 7.151162683963776\n",
      "Epoch 0 Global_step 8\tTrain_loss: 0.0072\tEval_GAUC: 0.5178\tEval_AUC: 0.5181\n",
      "global_step: 9 ; loss= 0.6518771 ; loss_sum= 0.6518771052360535\n",
      "global_step: 10 ; loss= 0.9719677 ; loss_sum= 1.6238448023796082\n",
      "Epoch 0 DONE\tCost time: 42.99\n",
      "global_step: 11 ; loss= 0.94354844 ; loss_sum= 0.9435484409332275\n",
      "global_step: 12 ; loss= 0.7655294 ; loss_sum= 1.7090778350830078\n",
      "global_step: 13 ; loss= 0.7184435 ; loss_sum= 2.4275213479995728\n",
      "global_step: 14 ; loss= 0.71985954 ; loss_sum= 3.1473808884620667\n",
      "global_step: 15 ; loss= 0.7897202 ; loss_sum= 3.9371010661125183\n",
      "global_step: 16 ; loss= 0.7282237 ; loss_sum= 4.6653247475624084\n",
      "Epoch 1 Global_step 16\tTrain_loss: 0.0047\tEval_GAUC: 0.5241\tEval_AUC: 0.5233\n",
      "global_step: 17 ; loss= 0.7291862 ; loss_sum= 0.7291861772537231\n",
      "global_step: 18 ; loss= 0.6965909 ; loss_sum= 1.4257770776748657\n",
      "global_step: 19 ; loss= 0.70914346 ; loss_sum= 2.1349205374717712\n",
      "global_step: 20 ; loss= 0.742605 ; loss_sum= 2.877525508403778\n",
      "Epoch 1 DONE\tCost time: 89.21\n",
      "global_step: 21 ; loss= 0.6283192 ; loss_sum= 0.6283192038536072\n",
      "global_step: 22 ; loss= 0.74805474 ; loss_sum= 1.3763739466667175\n",
      "global_step: 23 ; loss= 0.69240177 ; loss_sum= 2.068775713443756\n",
      "global_step: 24 ; loss= 0.69073164 ; loss_sum= 2.7595073580741882\n",
      "Epoch 2 Global_step 24\tTrain_loss: 0.0028\tEval_GAUC: 0.5288\tEval_AUC: 0.5286\n",
      "global_step: 25 ; loss= 0.70286435 ; loss_sum= 0.7028643488883972\n",
      "global_step: 26 ; loss= 0.7247329 ; loss_sum= 1.4275972247123718\n",
      "global_step: 27 ; loss= 0.70722175 ; loss_sum= 2.134818971157074\n",
      "global_step: 28 ; loss= 0.6914372 ; loss_sum= 2.8262561559677124\n",
      "global_step: 29 ; loss= 0.6782954 ; loss_sum= 3.5045515298843384\n",
      "global_step: 30 ; loss= 0.76528174 ; loss_sum= 4.269833266735077\n",
      "Epoch 2 DONE\tCost time: 136.08\n",
      "global_step: 31 ; loss= 0.7294594 ; loss_sum= 0.7294594049453735\n",
      "global_step: 32 ; loss= 0.70405847 ; loss_sum= 1.433517873287201\n",
      "Epoch 3 Global_step 32\tTrain_loss: 0.0014\tEval_GAUC: 0.5344\tEval_AUC: 0.5339\n",
      "global_step: 33 ; loss= 0.6925268 ; loss_sum= 0.6925268173217773\n",
      "global_step: 34 ; loss= 0.69548786 ; loss_sum= 1.3880146741867065\n",
      "global_step: 35 ; loss= 0.69305164 ; loss_sum= 2.081066310405731\n",
      "global_step: 36 ; loss= 0.7120499 ; loss_sum= 2.7931162118911743\n",
      "global_step: 37 ; loss= 0.7291734 ; loss_sum= 3.5222896337509155\n",
      "global_step: 38 ; loss= 0.6917794 ; loss_sum= 4.2140690088272095\n",
      "global_step: 39 ; loss= 0.6453039 ; loss_sum= 4.859372913837433\n",
      "global_step: 40 ; loss= 0.84605926 ; loss_sum= 5.705432176589966\n",
      "Epoch 3 Global_step 40\tTrain_loss: 0.0057\tEval_GAUC: 0.5394\tEval_AUC: 0.5387\n",
      "Epoch 3 DONE\tCost time: 220.15\n",
      "global_step: 41 ; loss= 0.6927773 ; loss_sum= 0.6927772760391235\n",
      "global_step: 42 ; loss= 0.6831811 ; loss_sum= 1.3759583830833435\n",
      "global_step: 43 ; loss= 0.70986223 ; loss_sum= 2.0858206152915955\n",
      "global_step: 44 ; loss= 0.6918741 ; loss_sum= 2.7776947021484375\n",
      "global_step: 45 ; loss= 0.7070627 ; loss_sum= 3.484757423400879\n",
      "global_step: 46 ; loss= 0.6884761 ; loss_sum= 4.173233509063721\n",
      "global_step: 47 ; loss= 0.714501 ; loss_sum= 4.887734532356262\n",
      "global_step: 48 ; loss= 0.684638 ; loss_sum= 5.572372555732727\n",
      "Epoch 4 Global_step 48\tTrain_loss: 0.0056\tEval_GAUC: 0.5438\tEval_AUC: 0.5431\n",
      "global_step: 49 ; loss= 0.7077422 ; loss_sum= 0.7077422142028809\n",
      "global_step: 50 ; loss= 0.68131334 ; loss_sum= 1.3890555500984192\n",
      "Epoch 4 DONE\tCost time: 263.23\n",
      "best test_gauc: 0.5437960946892559\n"
     ]
    }
   ],
   "source": [
    "# print('test_gauc: %.4f\\t test_auc: %.4f' % _eval(sess, model))\n",
    "sys.stdout.flush()\n",
    "lr = 1.0\n",
    "start_time = time.time()\n",
    "for _ in range(50):\n",
    "    random.shuffle(train_set)\n",
    "    loss_sum = 0.0\n",
    "    i=0\n",
    "    for _, uij in DataInput(train_set, train_batch_size):\n",
    "#         i = i+1\n",
    "#         if i>10:\n",
    "#             break\n",
    "            \n",
    "        loss = model.train(uij, lr)\n",
    "        loss_sum += loss\n",
    "        print('global_step:', model.global_step.eval(), '; loss=', loss, \"; loss_sum=\", loss_sum)\n",
    "\n",
    "        if model.global_step.eval() % 1000 == 0:\n",
    "            test_gauc, Auc = _eval(model)\n",
    "            print('Epoch %d Global_step %d\\tTrain_loss: %.4f\\tEval_GAUC: %.4f\\tEval_AUC: %.4f' %\n",
    "              (model.global_epoch_step.eval(), model.global_step.eval(),\n",
    "               loss_sum / 1000, test_gauc, Auc))\n",
    "            sys.stdout.flush()\n",
    "            loss_sum = 0.0\n",
    "\n",
    "        if model.global_step.eval() % 336000 == 0:\n",
    "            lr = 0.1\n",
    "\n",
    "    print('Epoch %d DONE\\tCost time: %.2f' %\n",
    "          (model.global_epoch_step.eval(), time.time()-start_time))\n",
    "    sys.stdout.flush()\n",
    "    model.global_epoch_step_op.eval()\n",
    "\n",
    "print('best test_gauc:', best_auc)\n",
    "sys.stdout.flush()"
   ]
  },
  {
   "cell_type": "code",
   "execution_count": null,
   "id": "ec8d75ef",
   "metadata": {},
   "outputs": [],
   "source": []
  },
  {
   "cell_type": "markdown",
   "id": "fae4fdd3",
   "metadata": {},
   "source": [
    "# 评估"
   ]
  },
  {
   "cell_type": "code",
   "execution_count": null,
   "id": "f7433a01",
   "metadata": {},
   "outputs": [],
   "source": []
  },
  {
   "cell_type": "code",
   "execution_count": null,
   "id": "40e4c34e",
   "metadata": {},
   "outputs": [],
   "source": []
  },
  {
   "cell_type": "code",
   "execution_count": null,
   "id": "c3d3e6b9",
   "metadata": {},
   "outputs": [],
   "source": []
  },
  {
   "cell_type": "code",
   "execution_count": null,
   "id": "3ca6403a",
   "metadata": {},
   "outputs": [],
   "source": []
  },
  {
   "cell_type": "code",
   "execution_count": null,
   "id": "121ce86b",
   "metadata": {},
   "outputs": [],
   "source": []
  },
  {
   "cell_type": "code",
   "execution_count": null,
   "id": "843b0ee2",
   "metadata": {},
   "outputs": [],
   "source": []
  },
  {
   "cell_type": "code",
   "execution_count": null,
   "id": "844ce410",
   "metadata": {},
   "outputs": [],
   "source": []
  },
  {
   "cell_type": "code",
   "execution_count": null,
   "id": "3a6d63fc",
   "metadata": {},
   "outputs": [],
   "source": []
  },
  {
   "cell_type": "code",
   "execution_count": null,
   "id": "80281587",
   "metadata": {},
   "outputs": [],
   "source": []
  }
 ],
 "metadata": {
  "kernelspec": {
   "display_name": "Python 3",
   "language": "python",
   "name": "python3"
  },
  "language_info": {
   "codemirror_mode": {
    "name": "ipython",
    "version": 3
   },
   "file_extension": ".py",
   "mimetype": "text/x-python",
   "name": "python",
   "nbconvert_exporter": "python",
   "pygments_lexer": "ipython3",
   "version": "3.5.6"
  }
 },
 "nbformat": 4,
 "nbformat_minor": 5
}
